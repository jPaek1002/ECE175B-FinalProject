{
 "cells": [
  {
   "cell_type": "code",
   "execution_count": 1,
   "id": "231343bf",
   "metadata": {},
   "outputs": [],
   "source": [
    "import os\n",
    "import torch\n",
    "import torch.nn as nn\n",
    "import torch.optim as optim\n",
    "from torch.utils.data import DataLoader\n",
    "from torchvision import transforms\n",
    "from torchvision.datasets import ImageFolder\n",
    "from torchvision.utils import save_image\n",
    "from ignite.engine import Events, create_supervised_trainer, create_supervised_evaluator\n",
    "from ignite.metrics import Loss\n",
    "import matplotlib.pyplot as plt\n",
    "import numpy as np\n",
    "import torchvision.utils as vutils"
   ]
  },
  {
   "cell_type": "code",
   "execution_count": 2,
   "id": "5b97a53b",
   "metadata": {},
   "outputs": [],
   "source": [
    "# Set the paths for the dataset\n",
    "data_dir = os.path.join(os.getcwd(), \"archive\", \"chest_xray\")\n",
    "train_dir = os.path.join(data_dir, \"train\")\n",
    "test_dir = os.path.join(data_dir, \"test\")\n",
    "val_dir = os.path.join(data_dir, \"val\")\n",
    "\n",
    "# Define the dimensions of the input images\n",
    "input_shape = (1, 512, 512)  # Grayscale images of size 1024x1024\n",
    "\n",
    "# Define latent dimensions\n",
    "latent_dim = 100\n",
    "\n",
    "# Set the device\n",
    "device = torch.device(\"cuda\" if torch.cuda.is_available() else \"cpu\")"
   ]
  },
  {
   "cell_type": "code",
   "execution_count": 3,
   "id": "4508147f",
   "metadata": {},
   "outputs": [],
   "source": [
    "# Define the VAE model\n",
    "class VAE(nn.Module):\n",
    "    def __init__(self):\n",
    "        super(VAE, self).__init__()\n",
    "\n",
    "        # Define the encoder\n",
    "        self.encoder = nn.Sequential(\n",
    "            nn.Conv2d(input_shape[0], 32, kernel_size=4, stride=2, padding=1),\n",
    "            nn.ReLU(),\n",
    "            nn.Conv2d(32, 64, kernel_size=4, stride=2, padding=1),\n",
    "            nn.ReLU(),\n",
    "            nn.Conv2d(64, 128, kernel_size=4, stride=2, padding=1),\n",
    "            nn.ReLU(),\n",
    "            nn.Conv2d(128, 256, kernel_size=4, stride=2, padding=1),\n",
    "            nn.ReLU()\n",
    "        )\n",
    "\n",
    "        # Define the decoder\n",
    "        self.decoder = nn.Sequential(\n",
    "            nn.ConvTranspose2d(256, 128, kernel_size=4, stride=2, padding=1),\n",
    "            nn.ReLU(),\n",
    "            nn.ConvTranspose2d(128, 64, kernel_size=4, stride=2, padding=1),\n",
    "            nn.ReLU(),\n",
    "            nn.ConvTranspose2d(64, 32, kernel_size=4, stride=2, padding=1),\n",
    "            nn.ReLU(),\n",
    "            nn.ConvTranspose2d(32, input_shape[0], kernel_size=4, stride=2, padding=1),\n",
    "            nn.Sigmoid()\n",
    "        )\n",
    "\n",
    "    def forward(self, x):\n",
    "        x = self.encoder(x)\n",
    "        x = self.decoder(x)\n",
    "        return x"
   ]
  },
  {
   "cell_type": "code",
   "execution_count": 4,
   "id": "b294b477",
   "metadata": {},
   "outputs": [],
   "source": [
    "# Create data transforms\n",
    "data_transforms = transforms.Compose([\n",
    "    transforms.Grayscale(),\n",
    "    transforms.Resize((input_shape[1], input_shape[2])),\n",
    "    transforms.ToTensor()\n",
    "])\n",
    "\n",
    "# Load the dataset\n",
    "train_dataset = ImageFolder(train_dir, transform=data_transforms)\n",
    "test_dataset = ImageFolder(test_dir, transform=data_transforms)\n",
    "val_dataset = ImageFolder(val_dir, transform=data_transforms)\n",
    "\n",
    "# Create data loaders\n",
    "batch_size = 32\n",
    "train_loader = DataLoader(train_dataset, batch_size=batch_size, shuffle=True)\n",
    "test_loader = DataLoader(test_dataset, batch_size=batch_size, shuffle=False)\n",
    "val_loader = DataLoader(val_dataset, batch_size=batch_size, shuffle=False)"
   ]
  },
  {
   "cell_type": "code",
   "execution_count": 5,
   "id": "f4ffd783",
   "metadata": {},
   "outputs": [
    {
     "name": "stdout",
     "output_type": "stream",
     "text": [
      "Epoch [1/10], Step [100/163], Loss: 0.0104\n",
      "Epoch [2/10], Step [100/163], Loss: 0.0011\n",
      "Epoch [3/10], Step [100/163], Loss: 0.0007\n",
      "Epoch [4/10], Step [100/163], Loss: 0.0006\n",
      "Epoch [5/10], Step [100/163], Loss: 0.0005\n",
      "Epoch [6/10], Step [100/163], Loss: 0.0004\n",
      "Epoch [7/10], Step [100/163], Loss: 0.0004\n",
      "Epoch [8/10], Step [100/163], Loss: 0.0003\n",
      "Epoch [9/10], Step [100/163], Loss: 0.0003\n",
      "Epoch [10/10], Step [100/163], Loss: 0.0003\n"
     ]
    }
   ],
   "source": [
    "# Initialize the model\n",
    "model = VAE().to(device)\n",
    "\n",
    "# Define the optimizer\n",
    "optimizer = optim.Adam(model.parameters(), lr=0.001)\n",
    "\n",
    "# Define the loss function\n",
    "criterion = nn.MSELoss()\n",
    "\n",
    "# Set random seed for reproducibility\n",
    "torch.manual_seed(42)\n",
    "\n",
    "# Training loop\n",
    "num_epochs = 10\n",
    "for epoch in range(num_epochs):\n",
    "    running_loss = 0.0\n",
    "    for batch_idx, (data, _) in enumerate(train_loader):\n",
    "        data = data.to(device)\n",
    "        \n",
    "        # Forward pass\n",
    "        recon_batch = model(data)\n",
    "        \n",
    "        # Compute the loss\n",
    "        loss = criterion(recon_batch, data)\n",
    "        \n",
    "        # Backward pass and optimization\n",
    "        optimizer.zero_grad()\n",
    "        loss.backward()\n",
    "        optimizer.step()\n",
    "        \n",
    "        running_loss += loss.item()\n",
    "        \n",
    "        if batch_idx % 100 == 99:\n",
    "            print('Epoch [{}/{}], Step [{}/{}], Loss: {:.4f}'\n",
    "                  .format(epoch+1, num_epochs, batch_idx+1, len(train_loader), running_loss/100))\n",
    "            running_loss = 0.0"
   ]
  },
  {
   "cell_type": "code",
   "execution_count": 10,
   "id": "cf756c23",
   "metadata": {},
   "outputs": [],
   "source": [
    "# Generate images using the trained VAE model\n",
    "with torch.no_grad():\n",
    "    model.eval()\n",
    "    for i, (data, _) in enumerate(test_loader):\n",
    "        data = data.to(device)\n",
    "        recon_batch = model(data)\n",
    "        if i == 0:\n",
    "            save_image(data, os.path.join(data_dir, \"original_images.png\"))\n",
    "            save_image(recon_batch, os.path.join(data_dir, \"reconstructed_images.png\"))"
   ]
  },
  {
   "cell_type": "code",
   "execution_count": 11,
   "id": "1aeaa1ae",
   "metadata": {},
   "outputs": [
    {
     "ename": "NameError",
     "evalue": "name 'idist' is not defined",
     "output_type": "error",
     "traceback": [
      "\u001b[1;31m---------------------------------------------------------------------------\u001b[0m",
      "\u001b[1;31mNameError\u001b[0m                                 Traceback (most recent call last)",
      "Cell \u001b[1;32mIn[11], line 3\u001b[0m\n\u001b[0;32m      1\u001b[0m \u001b[38;5;28;01mfrom\u001b[39;00m \u001b[38;5;21;01mignite\u001b[39;00m\u001b[38;5;21;01m.\u001b[39;00m\u001b[38;5;21;01mmetrics\u001b[39;00m \u001b[38;5;28;01mimport\u001b[39;00m FID, InceptionScore\n\u001b[1;32m----> 3\u001b[0m fid_metric \u001b[38;5;241m=\u001b[39m FID(device\u001b[38;5;241m=\u001b[39m\u001b[43midist\u001b[49m\u001b[38;5;241m.\u001b[39mdevice())\n\u001b[0;32m      4\u001b[0m is_metric \u001b[38;5;241m=\u001b[39m InceptionScore(device\u001b[38;5;241m=\u001b[39midist\u001b[38;5;241m.\u001b[39mdevice(), output_transform\u001b[38;5;241m=\u001b[39m\u001b[38;5;28;01mlambda\u001b[39;00m x: x[\u001b[38;5;241m0\u001b[39m])\n",
      "\u001b[1;31mNameError\u001b[0m: name 'idist' is not defined"
     ]
    }
   ],
   "source": [
    "from ignite.metrics import FID, InceptionScore\n",
    "\n",
    "fid_metric = FID(device=idist.device())\n",
    "is_metric = InceptionScore(device=idist.device(), output_transform=lambda x: x[0])"
   ]
  },
  {
   "cell_type": "code",
   "execution_count": null,
   "id": "9119d53f",
   "metadata": {},
   "outputs": [],
   "source": [
    "real_batch = next(iter(train_loader))\n",
    "\n",
    "plt.figure(figsize=(8,8))\n",
    "plt.axis(\"off\")\n",
    "plt.title(\"Training aImages\")\n",
    "plt.imshow(np.transpose(vutils.make_grid(real_batch[0][:64], padding=2, normalize=True).cpu(),(1,2,0)))\n",
    "plt.show()"
   ]
  }
 ],
 "metadata": {
  "kernelspec": {
   "display_name": "Python 3 (ipykernel)",
   "language": "python",
   "name": "python3"
  },
  "language_info": {
   "codemirror_mode": {
    "name": "ipython",
    "version": 3
   },
   "file_extension": ".py",
   "mimetype": "text/x-python",
   "name": "python",
   "nbconvert_exporter": "python",
   "pygments_lexer": "ipython3",
   "version": "3.9.13"
  }
 },
 "nbformat": 4,
 "nbformat_minor": 5
}
